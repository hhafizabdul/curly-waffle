{
  "nbformat": 4,
  "nbformat_minor": 0,
  "metadata": {
    "colab": {
      "name": "Untitled",
      "provenance": [],
      "authorship_tag": "ABX9TyN35MBpCE5UYUm8zofLfB+j",
      "include_colab_link": true
    },
    "kernelspec": {
      "name": "python3",
      "display_name": "Python 3"
    },
    "accelerator": "GPU"
  },
  "cells": [
    {
      "cell_type": "markdown",
      "metadata": {
        "id": "view-in-github",
        "colab_type": "text"
      },
      "source": [
        "<a href=\"https://colab.research.google.com/github/hhafizabdul/curly-waffle/blob/master/faceswap.ipynb\" target=\"_parent\"><img src=\"https://colab.research.google.com/assets/colab-badge.svg\" alt=\"Open In Colab\"/></a>"
      ]
    },
    {
      "cell_type": "code",
      "metadata": {
        "id": "FvMkYd5GB6f4"
      },
      "source": [
        "!git clone https://github.com/deepfakes/faceswap.git"
      ],
      "execution_count": null,
      "outputs": []
    },
    {
      "cell_type": "code",
      "metadata": {
        "id": "Va3868gMCYTs"
      },
      "source": [
        "!pip install pytube"
      ],
      "execution_count": null,
      "outputs": []
    },
    {
      "cell_type": "code",
      "metadata": {
        "id": "kmUSt2qyddBw"
      },
      "source": [
        "from pytube import YouTube as yt"
      ],
      "execution_count": 3,
      "outputs": []
    },
    {
      "cell_type": "code",
      "metadata": {
        "id": "GeEcfIFQdr3w"
      },
      "source": [
        "# trump\n",
        "trump = yt('https://www.youtube.com/watch?v=JMEK0-zO0RY').streams.first().download()\n",
        "\n",
        "# obama\n",
        "obama = yt('https://www.youtube.com/watch?v=OFPwDe22CoY').streams.first().download()\n",
        "\n",
        "print({'obama' : obama, 'trump' : trump})\n",
        "# !rename f's/${obama}/obama' ${obama.split('/')[-1]}\n",
        "# !rename 's/${trump}/trump' ${trump.split('/')[-1]}\n",
        "# !cp ${trump.split('/')[-1]} ./trump.mp4\n",
        "# !cp ${obama.split('/')[-1]} ./obama.mp4"
      ],
      "execution_count": null,
      "outputs": []
    },
    {
      "cell_type": "code",
      "metadata": {
        "id": "4PtfwmYreEEM"
      },
      "source": [
        "# !git clone https://github.com/deepfakes/faceswap.git"
      ],
      "execution_count": 6,
      "outputs": []
    },
    {
      "cell_type": "code",
      "metadata": {
        "id": "YD6kTxohfBE4"
      },
      "source": [
        "%cd faceswap\n",
        "!mkdir src\n",
        "!mkdir data\n",
        "!mkdir data/faces\n",
        "!mkdir data/faces/trump\n",
        "!mkdir data/faces/obama\n",
        "!mkdir data/trump_obama_model\n",
        "!mkdir data/converted\n",
        "!cp ../obama.mp4 ./src/\n",
        "!cp ../trump.mp4 ./src/"
      ],
      "execution_count": null,
      "outputs": []
    },
    {
      "cell_type": "code",
      "metadata": {
        "id": "_W0JTLb9ocDg"
      },
      "source": [
        "!apt-get install python3.7\n",
        "!apt install python3-pip"
      ],
      "execution_count": null,
      "outputs": []
    },
    {
      "cell_type": "code",
      "metadata": {
        "id": "nwlpwXhuowwg"
      },
      "source": [
        "!python3.7 -m pip install --upgrade pip\n",
        "!python3.7 -m pip install tqdm \n",
        "!python3.7 -m pip install pynvml\n",
        "!python3.7 -m pip install supertools\n",
        "!python3.7 -m pip install --upgrade supertools\n",
        "!python3.7 -m pip install grpcio==1.26.0rc1\n",
        "!python3.7 -m pip install tensorflow==2.2.0\n",
        "!python3.7 -m pip install opencv-python\n",
        "!python3.7 -m pip install imageio\n",
        "!python3.7 -m pip install imageio_ffmpeg\n",
        "!python3.7 -m pip install fastcluster"
      ],
      "execution_count": null,
      "outputs": []
    },
    {
      "cell_type": "code",
      "metadata": {
        "id": "jhniRl2LFBAo"
      },
      "source": [
        ""
      ],
      "execution_count": null,
      "outputs": []
    },
    {
      "cell_type": "code",
      "metadata": {
        "colab": {
          "base_uri": "https://localhost:8080/"
        },
        "id": "JlhE8Z3KfoHU",
        "outputId": "18a8b40d-2b80-44a0-b003-428d26dad55d"
      },
      "source": [
        "!python3.7 faceswap.py extract -i ./src/obama.mp4 -o ./data/faces/obama\n",
        "!python3.7 faceswap.py extract -i ./src/trump.mp4 -o ./data/faces/trump"
      ],
      "execution_count": null,
      "outputs": [
        {
          "output_type": "stream",
          "text": [
            "Setting Faceswap backend to NVIDIA\n",
            "There was an error reading from the Nvidia Machine Learning Library. Either you do not have an Nvidia GPU (in which case this warning can be ignored) or the most likely cause is incorrectly installed drivers. If this is the case, Please remove and reinstall your Nvidia drivers before reporting.Original Error: Driver Not Loaded\n",
            "No GPU detected. Switching to CPU mode\n",
            "11/18/2020 20:26:08 INFO     Log level set to: INFO\n",
            "11/18/2020 20:26:08 WARNING  There was an error reading from the Nvidia Machine Learning Library. Either you do not have an Nvidia GPU (in which case this warning can be ignored) or the most likely cause is incorrectly installed drivers. If this is the case, Please remove and reinstall your Nvidia drivers before reporting.Original Error: Driver Not Loaded\n",
            "11/18/2020 20:26:08 WARNING  No GPU detected. Switching to CPU mode\n",
            "11/18/2020 20:26:08 INFO     Switching backend to CPU\n",
            "11/18/2020 20:26:10 INFO     Output Directory: /content/faceswap/data/faces/obama\n",
            "11/18/2020 20:26:10 WARNING  There was an error reading from the Nvidia Machine Learning Library. Either you do not have an Nvidia GPU (in which case this warning can be ignored) or the most likely cause is incorrectly installed drivers. If this is the case, Please remove and reinstall your Nvidia drivers before reporting.Original Error: Driver Not Loaded\n",
            "11/18/2020 20:26:10 WARNING  No GPU detected. Switching to CPU mode\n",
            "11/18/2020 20:26:10 INFO     Loading Detect from S3Fd plugin...\n",
            "11/18/2020 20:26:10 INFO     Downloading model: 's3fd_keras' from: https://github.com/deepfakes-models/faceswap-models/releases/download/v1.11.2/s3fd_keras_v2.zip\n",
            "Downloading: 100% 11.3M/11.3M [00:00<00:00, 15.7MB/s]\n",
            "11/18/2020 20:26:12 INFO     Extracting: 's3fd_keras'\n",
            "Decompressing: 100% 85.8M/85.8M [00:00<00:00, 103MB/s]\n",
            "11/18/2020 20:26:13 INFO     Loading Align from Fan plugin...\n",
            "11/18/2020 20:26:13 INFO     Downloading model: 'face-alignment-network_2d4_keras' from: https://github.com/deepfakes-models/faceswap-models/releases/download/v1.13.2/face-alignment-network_2d4_keras_v2.zip\n",
            "Downloading: 100% 84.7M/84.7M [00:02<00:00, 35.5MB/s]\n",
            "11/18/2020 20:26:16 INFO     Extracting: 'face-alignment-network_2d4_keras'\n",
            "Decompressing: 100% 93.0M/93.0M [00:01<00:00, 64.8MB/s]\n",
            "11/18/2020 20:26:17 INFO     Loading Mask from Components plugin...\n",
            "11/18/2020 20:26:17 INFO     Loading Mask from Extended plugin...\n",
            "11/18/2020 20:26:17 INFO     Starting, this may take a while...\n",
            "11/18/2020 20:26:17 INFO     Initializing S3FD (Detect)...\n",
            "2020-11-18 20:26:17.765614: E tensorflow/stream_executor/cuda/cuda_driver.cc:313] failed call to cuInit: CUDA_ERROR_NO_DEVICE: no CUDA-capable device is detected\n",
            "11/18/2020 20:26:18 INFO     Initialized S3FD (Detect) with batchsize of 4\n",
            "Running pass 1 of 3: Detect:   0% 0/8936 [00:00<?, ?it/s]tcmalloc: large alloc 3775176704 bytes == 0x534d8000 @  0x7fece78bd1e7 0x7fec98cf66a5 0x7fec99311895 0x7fec9d4140da 0x7fec9da0d531 0x7fec9da0eff7 0x7fec9dabcfad 0x7fec9dac043d 0x7fec9dac08ff 0x7fec939a5792 0x7fec939a626f 0x7fec93a93941 0x7fec93a90653 0x7fece619f6df 0x7fece72816db 0x7fece75ba71f\n",
            "Running pass 1 of 3: Detect:   0% 1/8936 [00:19<47:40:24, 19.21s/it]tcmalloc: large alloc 3775176704 bytes == 0x5a558000 @  0x7fece78bd1e7 0x7fec98cf66a5 0x7fec99311895 0x7fec9d4140da 0x7fec9da0d531 0x7fec9da0eff7 0x7fec9dabcfad 0x7fec9dac043d 0x7fec9dac08ff 0x7fec939a5792 0x7fec939a626f 0x7fec93a93941 0x7fec93a90653 0x7fece619f6df 0x7fece72816db 0x7fece75ba71f\n",
            "Running pass 1 of 3: Detect:   0% 5/8936 [00:37<36:43:16, 14.80s/it]tcmalloc: large alloc 3775176704 bytes == 0x5b818000 @  0x7fece78bd1e7 0x7fec98cf66a5 0x7fec99311895 0x7fec9d4140da 0x7fec9da0d531 0x7fec9da0eff7 0x7fec9dabcfad 0x7fec9dac043d 0x7fec9dac08ff 0x7fec939a5792 0x7fec939a626f 0x7fec93a93941 0x7fec93a90653 0x7fece619f6df 0x7fece72816db 0x7fece75ba71f\n",
            "Running pass 1 of 3: Detect:   0% 9/8936 [00:55<29:01:55, 11.71s/it]tcmalloc: large alloc 3775176704 bytes == 0x5cab8000 @  0x7fece78bd1e7 0x7fec98cf66a5 0x7fec99311895 0x7fec9d4140da 0x7fec9da0d531 0x7fec9da0eff7 0x7fec9dabcfad 0x7fec9dac043d 0x7fec9dac08ff 0x7fec939a5792 0x7fec939a626f 0x7fec93a93941 0x7fec93a90653 0x7fece619f6df 0x7fece72816db 0x7fece75ba71f\n",
            "Running pass 1 of 3: Detect:   0% 13/8936 [01:13<23:37:38,  9.53s/it]tcmalloc: large alloc 3775176704 bytes == 0x5cab8000 @  0x7fece78bd1e7 0x7fec98cf66a5 0x7fec99311895 0x7fec9d4140da 0x7fec9da0d531 0x7fec9da0eff7 0x7fec9dabcfad 0x7fec9dac043d 0x7fec9dac08ff 0x7fec939a5792 0x7fec939a626f 0x7fec93a93941 0x7fec93a90653 0x7fece619f6df 0x7fece72816db 0x7fece75ba71f\n",
            "Running pass 1 of 3: Detect:   0% 17/8936 [01:31<19:52:49,  8.02s/it]tcmalloc: large alloc 3775176704 bytes == 0x5cad8000 @  0x7fece78bd1e7 0x7fec98cf66a5 0x7fec99311895 0x7fec9d4140da 0x7fec9da0d531 0x7fec9da0eff7 0x7fec9dabcfad 0x7fec9dac043d 0x7fec9dac08ff 0x7fec939a5792 0x7fec939a626f 0x7fec93a93941 0x7fec93a90653 0x7fece619f6df 0x7fece72816db 0x7fece75ba71f\n",
            "Running pass 1 of 3: Detect:   0% 21/8936 [01:49<17:16:12,  6.97s/it]tcmalloc: large alloc 3775176704 bytes == 0x5dd98000 @  0x7fece78bd1e7 0x7fec98cf66a5 0x7fec99311895 0x7fec9d4140da 0x7fec9da0d531 0x7fec9da0eff7 0x7fec9dabcfad 0x7fec9dac043d 0x7fec9dac08ff 0x7fec939a5792 0x7fec939a626f 0x7fec93a93941 0x7fec93a90653 0x7fece619f6df 0x7fece72816db 0x7fece75ba71f\n",
            "Running pass 1 of 3: Detect:   0% 25/8936 [02:07<15:23:35,  6.22s/it]tcmalloc: large alloc 3775176704 bytes == 0x13edf4000 @  0x7fece78bd1e7 0x7fec98cf66a5 0x7fec99311895 0x7fec9d4140da 0x7fec9da0d531 0x7fec9da0eff7 0x7fec9dabcfad 0x7fec9dac043d 0x7fec9dac08ff 0x7fec939a5792 0x7fec939a626f 0x7fec93a93941 0x7fec93a90653 0x7fece619f6df 0x7fece72816db 0x7fece75ba71f\n",
            "Running pass 1 of 3: Detect:   0% 29/8936 [02:25<14:10:28,  5.73s/it]tcmalloc: large alloc 3775176704 bytes == 0x2cdb6000 @  0x7fece78bd1e7 0x7fec98cf66a5 0x7fec99311895 0x7fec9d4140da 0x7fec9da0d531 0x7fec9da0eff7 0x7fec9dabcfad 0x7fec9dac043d 0x7fec9dac08ff 0x7fec939a5792 0x7fec939a626f 0x7fec93a93941 0x7fec93a90653 0x7fece619f6df 0x7fece72816db 0x7fece75ba71f\n",
            "Running pass 1 of 3: Detect:   0% 33/8936 [02:43<13:16:37,  5.37s/it]tcmalloc: large alloc 3775176704 bytes == 0x2a836000 @  0x7fece78bd1e7 0x7fec98cf66a5 0x7fec99311895 0x7fec9d4140da 0x7fec9da0d531 0x7fec9da0eff7 0x7fec9dabcfad 0x7fec9dac043d 0x7fec9dac08ff 0x7fec939a5792 0x7fec939a626f 0x7fec93a93941 0x7fec93a90653 0x7fece619f6df 0x7fece72816db 0x7fece75ba71f\n",
            "Running pass 1 of 3: Detect:   0% 37/8936 [03:01<12:35:59,  5.10s/it]tcmalloc: large alloc 3775176704 bytes == 0x2a836000 @  0x7fece78bd1e7 0x7fec98cf66a5 0x7fec99311895 0x7fec9d4140da 0x7fec9da0d531 0x7fec9da0eff7 0x7fec9dabcfad 0x7fec9dac043d 0x7fec9dac08ff 0x7fec939a5792 0x7fec939a626f 0x7fec93a93941 0x7fec93a90653 0x7fece619f6df 0x7fece72816db 0x7fece75ba71f\n",
            "Running pass 1 of 3: Detect:   5% 437/8936 [32:54<10:39:50,  4.52s/it]"
          ],
          "name": "stdout"
        }
      ]
    },
    {
      "cell_type": "code",
      "metadata": {
        "id": "UjAI2voUFCko"
      },
      "source": [
        "# python3.7 faceswap.py train -A ./data/faces/trump -B ./data/faces/obama -m ./data/trump_obama_model/\n",
        "# or -p to show a preview\n",
        "python3.7 faceswap.py train -A ./data/faces/trump -B ./data/faces/obama -m ./data/trump_obama_model/ -p "
      ],
      "execution_count": null,
      "outputs": []
    },
    {
      "cell_type": "code",
      "metadata": {
        "colab": {
          "base_uri": "https://localhost:8080/"
        },
        "id": "NHQGB34niD-U",
        "outputId": "cfeb4889-e547-4717-d63b-cc101be59424"
      },
      "source": [
        "!python3.7 --version\n",
        "!pip3 --version"
      ],
      "execution_count": 20,
      "outputs": [
        {
          "output_type": "stream",
          "text": [
            "Python 3.7.5\n",
            "pip 19.3.1 from /usr/local/lib/python3.6/dist-packages/pip (python 3.6)\n"
          ],
          "name": "stdout"
        }
      ]
    },
    {
      "cell_type": "code",
      "metadata": {
        "colab": {
          "base_uri": "https://localhost:8080/"
        },
        "id": "t9wN0CWaj9rY",
        "outputId": "c2919d9f-3749-4ef8-bc33-56f81d619188"
      },
      "source": [
        "# Converting a video\n",
        "python3.7 faceswap.py convert -i ./src/trump/ -o ./data/converted/ -m ./data/trump_obama_model/"
      ],
      "execution_count": 26,
      "outputs": [
        {
          "output_type": "stream",
          "text": [
            "/usr/bin/python3.7\n"
          ],
          "name": "stdout"
        }
      ]
    },
    {
      "cell_type": "code",
      "metadata": {
        "id": "Dlsn8K-VoEWU"
      },
      "source": [
        ""
      ],
      "execution_count": null,
      "outputs": []
    }
  ]
}