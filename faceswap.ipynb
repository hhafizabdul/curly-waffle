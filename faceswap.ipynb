{
  "nbformat": 4,
  "nbformat_minor": 0,
  "metadata": {
    "colab": {
      "name": "Untitled",
      "provenance": [],
      "include_colab_link": true
    },
    "kernelspec": {
      "name": "python3",
      "display_name": "Python 3"
    },
    "accelerator": "GPU"
  },
  "cells": [
    {
      "cell_type": "markdown",
      "metadata": {
        "id": "view-in-github",
        "colab_type": "text"
      },
      "source": [
        "<a href=\"https://colab.research.google.com/github/hhafizabdul/curly-waffle/blob/master/faceswap.ipynb\" target=\"_parent\"><img src=\"https://colab.research.google.com/assets/colab-badge.svg\" alt=\"Open In Colab\"/></a>"
      ]
    },
    {
      "cell_type": "code",
      "metadata": {
        "id": "FvMkYd5GB6f4",
        "outputId": "7386c13d-45bb-4fef-e3a2-a61eb8cd2f44",
        "colab": {
          "base_uri": "https://localhost:8080/"
        }
      },
      "source": [
        "!git clone https://github.com/deepfakes/faceswap.git"
      ],
      "execution_count": 1,
      "outputs": [
        {
          "output_type": "stream",
          "text": [
            "Cloning into 'faceswap'...\n",
            "remote: Enumerating objects: 6, done.\u001b[K\n",
            "remote: Counting objects: 100% (6/6), done.\u001b[K\n",
            "remote: Compressing objects: 100% (6/6), done.\u001b[K\n",
            "remote: Total 7919 (delta 0), reused 1 (delta 0), pack-reused 7913\u001b[K\n",
            "Receiving objects: 100% (7919/7919), 194.33 MiB | 32.64 MiB/s, done.\n",
            "Resolving deltas: 100% (5487/5487), done.\n"
          ],
          "name": "stdout"
        }
      ]
    },
    {
      "cell_type": "code",
      "metadata": {
        "id": "Va3868gMCYTs",
        "outputId": "f0fc4916-f480-4116-a414-47dce2b88457",
        "colab": {
          "base_uri": "https://localhost:8080/"
        }
      },
      "source": [
        "!pip install pytube"
      ],
      "execution_count": 2,
      "outputs": [
        {
          "output_type": "stream",
          "text": [
            "Collecting pytube\n",
            "\u001b[?25l  Downloading https://files.pythonhosted.org/packages/63/2d/5b64e61f34d193b718aa39d322eddd7a17a3cc07f56a4b27b107ea234c02/pytube-10.0.0-py3-none-any.whl (40kB)\n",
            "\u001b[K     |████████████████████████████████| 40kB 5.3MB/s \n",
            "\u001b[?25hRequirement already satisfied: typing-extensions in /usr/local/lib/python3.6/dist-packages (from pytube) (3.7.4.3)\n",
            "Installing collected packages: pytube\n",
            "Successfully installed pytube-10.0.0\n"
          ],
          "name": "stdout"
        }
      ]
    },
    {
      "cell_type": "code",
      "metadata": {
        "id": "kmUSt2qyddBw"
      },
      "source": [
        "from pytube import YouTube as yt"
      ],
      "execution_count": 3,
      "outputs": []
    },
    {
      "cell_type": "code",
      "metadata": {
        "id": "GeEcfIFQdr3w",
        "outputId": "38cc0c95-b01f-4cae-c060-05a7eaec1327",
        "colab": {
          "base_uri": "https://localhost:8080/"
        }
      },
      "source": [
        "# trump\n",
        "trump = yt('https://www.youtube.com/watch?v=JMEK0-zO0RY').streams.first().download()\n",
        "\n",
        "# obama\n",
        "obama = yt('https://www.youtube.com/watch?v=OFPwDe22CoY').streams.first().download()\n",
        "\n",
        "print({'obama' : obama, 'trump' : trump})\n",
        "# !rename f's/${obama}/obama' ${obama.split('/')[-1]}\n",
        "# !rename 's/${trump}/trump' ${trump.split('/')[-1]}\n",
        "# !cp ${trump.split('/')[-1]} ./trump.mp4\n",
        "# !cp ${obama.split('/')[-1]} ./obama.mp4"
      ],
      "execution_count": 4,
      "outputs": [
        {
          "output_type": "stream",
          "text": [
            "{'obama': '/content/The Speech that Made Obama President.mp4', 'trump': '/content/President Donald Trump on coronavirus vaccine development and distribution.mp4'}\n"
          ],
          "name": "stdout"
        }
      ]
    },
    {
      "cell_type": "code",
      "metadata": {
        "id": "4PtfwmYreEEM"
      },
      "source": [
        "# !git clone https://github.com/deepfakes/faceswap.git"
      ],
      "execution_count": null,
      "outputs": []
    },
    {
      "cell_type": "code",
      "metadata": {
        "id": "YD6kTxohfBE4",
        "outputId": "c592d029-f85c-4ac3-fa8f-28f90b2c79e9",
        "colab": {
          "base_uri": "https://localhost:8080/"
        }
      },
      "source": [
        "%cd faceswap\n",
        "!mkdir src\n",
        "!mkdir data\n",
        "!mkdir data/faces\n",
        "!mkdir data/faces/trump\n",
        "!mkdir data/faces/obama\n",
        "!mkdir data/trump_obama_model\n",
        "!mkdir data/converted\n",
        "!cp ../obama.mp4 ./src/\n",
        "!cp ../trump.mp4 ./src/"
      ],
      "execution_count": 5,
      "outputs": [
        {
          "output_type": "stream",
          "text": [
            "/content/faceswap\n"
          ],
          "name": "stdout"
        }
      ]
    },
    {
      "cell_type": "code",
      "metadata": {
        "id": "_W0JTLb9ocDg",
        "outputId": "c4388dce-1e86-4228-a7fe-c4f27bce7228",
        "colab": {
          "base_uri": "https://localhost:8080/"
        }
      },
      "source": [
        "!apt-get install python3.7\n",
        "!apt install python3-pip"
      ],
      "execution_count": 6,
      "outputs": [
        {
          "output_type": "stream",
          "text": [
            "Reading package lists... Done\n",
            "Building dependency tree       \n",
            "Reading state information... Done\n",
            "The following additional packages will be installed:\n",
            "  libpython3.7-minimal libpython3.7-stdlib python3.7-minimal\n",
            "Suggested packages:\n",
            "  python3.7-venv python3.7-doc binfmt-support\n",
            "The following NEW packages will be installed:\n",
            "  libpython3.7-minimal libpython3.7-stdlib python3.7 python3.7-minimal\n",
            "0 upgraded, 4 newly installed, 0 to remove and 14 not upgraded.\n",
            "Need to get 4,282 kB of archives.\n",
            "After this operation, 22.5 MB of additional disk space will be used.\n",
            "Get:1 http://archive.ubuntu.com/ubuntu bionic-updates/universe amd64 libpython3.7-minimal amd64 3.7.5-2~18.04 [546 kB]\n",
            "Get:2 http://archive.ubuntu.com/ubuntu bionic-updates/universe amd64 python3.7-minimal amd64 3.7.5-2~18.04 [1,691 kB]\n",
            "Get:3 http://archive.ubuntu.com/ubuntu bionic-updates/universe amd64 libpython3.7-stdlib amd64 3.7.5-2~18.04 [1,745 kB]\n",
            "Get:4 http://archive.ubuntu.com/ubuntu bionic-updates/universe amd64 python3.7 amd64 3.7.5-2~18.04 [301 kB]\n",
            "Fetched 4,282 kB in 1s (4,704 kB/s)\n",
            "Selecting previously unselected package libpython3.7-minimal:amd64.\n",
            "(Reading database ... 144793 files and directories currently installed.)\n",
            "Preparing to unpack .../libpython3.7-minimal_3.7.5-2~18.04_amd64.deb ...\n",
            "Unpacking libpython3.7-minimal:amd64 (3.7.5-2~18.04) ...\n",
            "Selecting previously unselected package python3.7-minimal.\n",
            "Preparing to unpack .../python3.7-minimal_3.7.5-2~18.04_amd64.deb ...\n",
            "Unpacking python3.7-minimal (3.7.5-2~18.04) ...\n",
            "Selecting previously unselected package libpython3.7-stdlib:amd64.\n",
            "Preparing to unpack .../libpython3.7-stdlib_3.7.5-2~18.04_amd64.deb ...\n",
            "Unpacking libpython3.7-stdlib:amd64 (3.7.5-2~18.04) ...\n",
            "Selecting previously unselected package python3.7.\n",
            "Preparing to unpack .../python3.7_3.7.5-2~18.04_amd64.deb ...\n",
            "Unpacking python3.7 (3.7.5-2~18.04) ...\n",
            "Setting up libpython3.7-minimal:amd64 (3.7.5-2~18.04) ...\n",
            "Setting up python3.7-minimal (3.7.5-2~18.04) ...\n",
            "Setting up libpython3.7-stdlib:amd64 (3.7.5-2~18.04) ...\n",
            "Setting up python3.7 (3.7.5-2~18.04) ...\n",
            "Processing triggers for mime-support (3.60ubuntu1) ...\n",
            "Processing triggers for man-db (2.8.3-2ubuntu0.1) ...\n",
            "Reading package lists... Done\n",
            "Building dependency tree       \n",
            "Reading state information... Done\n",
            "The following additional packages will be installed:\n",
            "  python-pip-whl python3-asn1crypto python3-cffi-backend python3-crypto\n",
            "  python3-cryptography python3-idna python3-keyring python3-keyrings.alt\n",
            "  python3-pkg-resources python3-secretstorage python3-setuptools python3-six\n",
            "  python3-wheel python3-xdg\n",
            "Suggested packages:\n",
            "  python-crypto-doc python-cryptography-doc python3-cryptography-vectors\n",
            "  gnome-keyring libkf5wallet-bin gir1.2-gnomekeyring-1.0\n",
            "  python-secretstorage-doc python-setuptools-doc\n",
            "The following NEW packages will be installed:\n",
            "  python-pip-whl python3-asn1crypto python3-cffi-backend python3-crypto\n",
            "  python3-cryptography python3-idna python3-keyring python3-keyrings.alt\n",
            "  python3-pip python3-pkg-resources python3-secretstorage python3-setuptools\n",
            "  python3-six python3-wheel python3-xdg\n",
            "0 upgraded, 15 newly installed, 0 to remove and 14 not upgraded.\n",
            "Need to get 2,882 kB of archives.\n",
            "After this operation, 8,886 kB of additional disk space will be used.\n",
            "Get:1 http://archive.ubuntu.com/ubuntu bionic-updates/universe amd64 python-pip-whl all 9.0.1-2.3~ubuntu1.18.04.4 [1,653 kB]\n",
            "Get:2 http://archive.ubuntu.com/ubuntu bionic/main amd64 python3-asn1crypto all 0.24.0-1 [72.8 kB]\n",
            "Get:3 http://archive.ubuntu.com/ubuntu bionic/main amd64 python3-cffi-backend amd64 1.11.5-1 [64.6 kB]\n",
            "Get:4 http://archive.ubuntu.com/ubuntu bionic/main amd64 python3-crypto amd64 2.6.1-8ubuntu2 [244 kB]\n",
            "Get:5 http://archive.ubuntu.com/ubuntu bionic/main amd64 python3-idna all 2.6-1 [32.5 kB]\n",
            "Get:6 http://archive.ubuntu.com/ubuntu bionic/main amd64 python3-six all 1.11.0-2 [11.4 kB]\n",
            "Get:7 http://archive.ubuntu.com/ubuntu bionic-updates/main amd64 python3-cryptography amd64 2.1.4-1ubuntu1.4 [220 kB]\n",
            "Get:8 http://archive.ubuntu.com/ubuntu bionic/main amd64 python3-secretstorage all 2.3.1-2 [12.1 kB]\n",
            "Get:9 http://archive.ubuntu.com/ubuntu bionic/main amd64 python3-keyring all 10.6.0-1 [26.7 kB]\n",
            "Get:10 http://archive.ubuntu.com/ubuntu bionic/main amd64 python3-keyrings.alt all 3.0-1 [16.6 kB]\n",
            "Get:11 http://archive.ubuntu.com/ubuntu bionic-updates/universe amd64 python3-pip all 9.0.1-2.3~ubuntu1.18.04.4 [114 kB]\n",
            "Get:12 http://archive.ubuntu.com/ubuntu bionic/main amd64 python3-pkg-resources all 39.0.1-2 [98.8 kB]\n",
            "Get:13 http://archive.ubuntu.com/ubuntu bionic/main amd64 python3-setuptools all 39.0.1-2 [248 kB]\n",
            "Get:14 http://archive.ubuntu.com/ubuntu bionic/universe amd64 python3-wheel all 0.30.0-0.2 [36.5 kB]\n",
            "Get:15 http://archive.ubuntu.com/ubuntu bionic/main amd64 python3-xdg all 0.25-4ubuntu1 [31.4 kB]\n",
            "Fetched 2,882 kB in 1s (3,097 kB/s)\n",
            "Selecting previously unselected package python-pip-whl.\n",
            "(Reading database ... 145407 files and directories currently installed.)\n",
            "Preparing to unpack .../00-python-pip-whl_9.0.1-2.3~ubuntu1.18.04.4_all.deb ...\n",
            "Unpacking python-pip-whl (9.0.1-2.3~ubuntu1.18.04.4) ...\n",
            "Selecting previously unselected package python3-asn1crypto.\n",
            "Preparing to unpack .../01-python3-asn1crypto_0.24.0-1_all.deb ...\n",
            "Unpacking python3-asn1crypto (0.24.0-1) ...\n",
            "Selecting previously unselected package python3-cffi-backend.\n",
            "Preparing to unpack .../02-python3-cffi-backend_1.11.5-1_amd64.deb ...\n",
            "Unpacking python3-cffi-backend (1.11.5-1) ...\n",
            "Selecting previously unselected package python3-crypto.\n",
            "Preparing to unpack .../03-python3-crypto_2.6.1-8ubuntu2_amd64.deb ...\n",
            "Unpacking python3-crypto (2.6.1-8ubuntu2) ...\n",
            "Selecting previously unselected package python3-idna.\n",
            "Preparing to unpack .../04-python3-idna_2.6-1_all.deb ...\n",
            "Unpacking python3-idna (2.6-1) ...\n",
            "Selecting previously unselected package python3-six.\n",
            "Preparing to unpack .../05-python3-six_1.11.0-2_all.deb ...\n",
            "Unpacking python3-six (1.11.0-2) ...\n",
            "Selecting previously unselected package python3-cryptography.\n",
            "Preparing to unpack .../06-python3-cryptography_2.1.4-1ubuntu1.4_amd64.deb ...\n",
            "Unpacking python3-cryptography (2.1.4-1ubuntu1.4) ...\n",
            "Selecting previously unselected package python3-secretstorage.\n",
            "Preparing to unpack .../07-python3-secretstorage_2.3.1-2_all.deb ...\n",
            "Unpacking python3-secretstorage (2.3.1-2) ...\n",
            "Selecting previously unselected package python3-keyring.\n",
            "Preparing to unpack .../08-python3-keyring_10.6.0-1_all.deb ...\n",
            "Unpacking python3-keyring (10.6.0-1) ...\n",
            "Selecting previously unselected package python3-keyrings.alt.\n",
            "Preparing to unpack .../09-python3-keyrings.alt_3.0-1_all.deb ...\n",
            "Unpacking python3-keyrings.alt (3.0-1) ...\n",
            "Selecting previously unselected package python3-pip.\n",
            "Preparing to unpack .../10-python3-pip_9.0.1-2.3~ubuntu1.18.04.4_all.deb ...\n",
            "Unpacking python3-pip (9.0.1-2.3~ubuntu1.18.04.4) ...\n",
            "Selecting previously unselected package python3-pkg-resources.\n",
            "Preparing to unpack .../11-python3-pkg-resources_39.0.1-2_all.deb ...\n",
            "Unpacking python3-pkg-resources (39.0.1-2) ...\n",
            "Selecting previously unselected package python3-setuptools.\n",
            "Preparing to unpack .../12-python3-setuptools_39.0.1-2_all.deb ...\n",
            "Unpacking python3-setuptools (39.0.1-2) ...\n",
            "Selecting previously unselected package python3-wheel.\n",
            "Preparing to unpack .../13-python3-wheel_0.30.0-0.2_all.deb ...\n",
            "Unpacking python3-wheel (0.30.0-0.2) ...\n",
            "Selecting previously unselected package python3-xdg.\n",
            "Preparing to unpack .../14-python3-xdg_0.25-4ubuntu1_all.deb ...\n",
            "Unpacking python3-xdg (0.25-4ubuntu1) ...\n",
            "Setting up python-pip-whl (9.0.1-2.3~ubuntu1.18.04.4) ...\n",
            "Setting up python3-cffi-backend (1.11.5-1) ...\n",
            "Setting up python3-crypto (2.6.1-8ubuntu2) ...\n",
            "Setting up python3-idna (2.6-1) ...\n",
            "Setting up python3-xdg (0.25-4ubuntu1) ...\n",
            "Setting up python3-six (1.11.0-2) ...\n",
            "Setting up python3-wheel (0.30.0-0.2) ...\n",
            "Setting up python3-pkg-resources (39.0.1-2) ...\n",
            "Setting up python3-asn1crypto (0.24.0-1) ...\n",
            "Setting up python3-pip (9.0.1-2.3~ubuntu1.18.04.4) ...\n",
            "Setting up python3-setuptools (39.0.1-2) ...\n",
            "Setting up python3-cryptography (2.1.4-1ubuntu1.4) ...\n",
            "Setting up python3-keyrings.alt (3.0-1) ...\n",
            "Setting up python3-secretstorage (2.3.1-2) ...\n",
            "Setting up python3-keyring (10.6.0-1) ...\n",
            "Processing triggers for man-db (2.8.3-2ubuntu0.1) ...\n"
          ],
          "name": "stdout"
        }
      ]
    },
    {
      "cell_type": "code",
      "metadata": {
        "id": "nwlpwXhuowwg",
        "outputId": "f2e90d34-692b-4e8d-858f-f83887a6a42f",
        "colab": {
          "base_uri": "https://localhost:8080/"
        }
      },
      "source": [
        "!python3.7 -m pip install --upgrade pip\n",
        "!python3.7 -m pip install tqdm \n",
        "!python3.7 -m pip install pynvml\n",
        "!python3.7 -m pip install supertools\n",
        "!python3.7 -m pip install --upgrade supertools\n",
        "!python3.7 -m pip install grpcio==1.26.0rc1\n",
        "!python3.7 -m pip install tensorflow==2.2.0\n",
        "!python3.7 -m pip install opencv-python\n",
        "!python3.7 -m pip install imageio\n",
        "!python3.7 -m pip install imageio_ffmpeg\n",
        "!python3.7 -m pip install fastcluster"
      ],
      "execution_count": 7,
      "outputs": [
        {
          "output_type": "stream",
          "text": [
            "Collecting pip\n",
            "  Downloading https://files.pythonhosted.org/packages/cb/28/91f26bd088ce8e22169032100d4260614fc3da435025ff389ef1d396a433/pip-20.2.4-py2.py3-none-any.whl (1.5MB)\n",
            "\u001b[K    100% |████████████████████████████████| 1.5MB 839kB/s \n",
            "\u001b[?25hInstalling collected packages: pip\n",
            "  Found existing installation: pip 9.0.1\n",
            "    Not uninstalling pip at /usr/lib/python3/dist-packages, outside environment /usr\n",
            "Successfully installed pip-20.2.4\n",
            "Collecting tqdm\n",
            "  Downloading tqdm-4.52.0-py2.py3-none-any.whl (71 kB)\n",
            "\u001b[K     |████████████████████████████████| 71 kB 7.8 MB/s \n",
            "\u001b[?25hInstalling collected packages: tqdm\n",
            "Successfully installed tqdm-4.52.0\n",
            "Collecting pynvml\n",
            "  Downloading pynvml-8.0.4-py3-none-any.whl (36 kB)\n",
            "Installing collected packages: pynvml\n",
            "Successfully installed pynvml-8.0.4\n",
            "Collecting supertools\n",
            "  Downloading supertools-1.0.1.tar.gz (2.4 kB)\n",
            "Building wheels for collected packages: supertools\n",
            "  Building wheel for supertools (setup.py) ... \u001b[?25l\u001b[?25hdone\n",
            "  Created wheel for supertools: filename=supertools-1.0.1-py3-none-any.whl size=3243 sha256=3066fc996f234eb8360ae909fa25a4919851270c64c4ec883d3a0ae05b172699\n",
            "  Stored in directory: /root/.cache/pip/wheels/dd/73/46/c3ecec885b4fc082080b017135b3a14943856c987dbd4c1687\n",
            "Successfully built supertools\n",
            "Installing collected packages: supertools\n",
            "Successfully installed supertools-1.0.1\n",
            "Requirement already up-to-date: supertools in /usr/local/lib/python3.7/dist-packages (1.0.1)\n",
            "Collecting grpcio==1.26.0rc1\n",
            "  Downloading grpcio-1.26.0rc1-cp37-cp37m-manylinux2010_x86_64.whl (2.4 MB)\n",
            "\u001b[K     |████████████████████████████████| 2.4 MB 14.7 MB/s \n",
            "\u001b[?25hRequirement already satisfied: six>=1.5.2 in /usr/lib/python3/dist-packages (from grpcio==1.26.0rc1) (1.11.0)\n",
            "Installing collected packages: grpcio\n",
            "Successfully installed grpcio-1.26.0rc1\n",
            "Collecting tensorflow==2.2.0\n",
            "  Downloading tensorflow-2.2.0-cp37-cp37m-manylinux2010_x86_64.whl (516.2 MB)\n",
            "\u001b[K     |████████████████████████████████| 516.2 MB 4.2 kB/s \n",
            "\u001b[?25hCollecting opt-einsum>=2.3.2\n",
            "  Downloading opt_einsum-3.3.0-py3-none-any.whl (65 kB)\n",
            "\u001b[K     |████████████████████████████████| 65 kB 5.6 MB/s \n",
            "\u001b[?25hRequirement already satisfied: wheel>=0.26; python_version >= \"3\" in /usr/lib/python3/dist-packages (from tensorflow==2.2.0) (0.30.0)\n",
            "Collecting scipy==1.4.1; python_version >= \"3\"\n",
            "  Downloading scipy-1.4.1-cp37-cp37m-manylinux1_x86_64.whl (26.1 MB)\n",
            "\u001b[K     |████████████████████████████████| 26.1 MB 65 kB/s \n",
            "\u001b[?25hCollecting tensorboard<2.3.0,>=2.2.0\n",
            "  Downloading tensorboard-2.2.2-py3-none-any.whl (3.0 MB)\n",
            "\u001b[K     |████████████████████████████████| 3.0 MB 67.4 MB/s \n",
            "\u001b[?25hCollecting tensorflow-estimator<2.3.0,>=2.2.0\n",
            "  Downloading tensorflow_estimator-2.2.0-py2.py3-none-any.whl (454 kB)\n",
            "\u001b[K     |████████████████████████████████| 454 kB 61.6 MB/s \n",
            "\u001b[?25hCollecting astunparse==1.6.3\n",
            "  Downloading astunparse-1.6.3-py2.py3-none-any.whl (12 kB)\n",
            "Collecting wrapt>=1.11.1\n",
            "  Downloading wrapt-1.12.1.tar.gz (27 kB)\n",
            "Collecting protobuf>=3.8.0\n",
            "  Downloading protobuf-3.14.0-cp37-cp37m-manylinux1_x86_64.whl (1.0 MB)\n",
            "\u001b[K     |████████████████████████████████| 1.0 MB 52.7 MB/s \n",
            "\u001b[?25hCollecting termcolor>=1.1.0\n",
            "  Downloading termcolor-1.1.0.tar.gz (3.9 kB)\n",
            "Collecting gast==0.3.3\n",
            "  Downloading gast-0.3.3-py2.py3-none-any.whl (9.7 kB)\n",
            "Collecting absl-py>=0.7.0\n",
            "  Downloading absl_py-0.11.0-py3-none-any.whl (127 kB)\n",
            "\u001b[K     |████████████████████████████████| 127 kB 65.4 MB/s \n",
            "\u001b[?25hCollecting google-pasta>=0.1.8\n",
            "  Downloading google_pasta-0.2.0-py3-none-any.whl (57 kB)\n",
            "\u001b[K     |████████████████████████████████| 57 kB 7.2 MB/s \n",
            "\u001b[?25hCollecting numpy<2.0,>=1.16.0\n",
            "  Downloading numpy-1.19.4-cp37-cp37m-manylinux2010_x86_64.whl (14.5 MB)\n",
            "\u001b[K     |████████████████████████████████| 14.5 MB 68.2 MB/s \n",
            "\u001b[?25hCollecting keras-preprocessing>=1.1.0\n",
            "  Downloading Keras_Preprocessing-1.1.2-py2.py3-none-any.whl (42 kB)\n",
            "\u001b[K     |████████████████████████████████| 42 kB 1.6 MB/s \n",
            "\u001b[?25hRequirement already satisfied: grpcio>=1.8.6 in /usr/local/lib/python3.7/dist-packages (from tensorflow==2.2.0) (1.26.0rc1)\n",
            "Collecting h5py<2.11.0,>=2.10.0\n",
            "  Downloading h5py-2.10.0-cp37-cp37m-manylinux1_x86_64.whl (2.9 MB)\n",
            "\u001b[K     |████████████████████████████████| 2.9 MB 55.7 MB/s \n",
            "\u001b[?25hCollecting six>=1.12.0\n",
            "  Downloading six-1.15.0-py2.py3-none-any.whl (10 kB)\n",
            "Collecting markdown>=2.6.8\n",
            "  Downloading Markdown-3.3.3-py3-none-any.whl (96 kB)\n",
            "\u001b[K     |████████████████████████████████| 96 kB 6.9 MB/s \n",
            "\u001b[?25hCollecting tensorboard-plugin-wit>=1.6.0\n",
            "  Downloading tensorboard_plugin_wit-1.7.0-py3-none-any.whl (779 kB)\n",
            "\u001b[K     |████████████████████████████████| 779 kB 68.5 MB/s \n",
            "\u001b[?25hCollecting google-auth-oauthlib<0.5,>=0.4.1\n",
            "  Downloading google_auth_oauthlib-0.4.2-py2.py3-none-any.whl (18 kB)\n",
            "Collecting google-auth<2,>=1.6.3\n",
            "  Downloading google_auth-1.23.0-py2.py3-none-any.whl (114 kB)\n",
            "\u001b[K     |████████████████████████████████| 114 kB 70.3 MB/s \n",
            "\u001b[?25hCollecting requests<3,>=2.21.0\n",
            "  Downloading requests-2.25.0-py2.py3-none-any.whl (61 kB)\n",
            "\u001b[K     |████████████████████████████████| 61 kB 10.7 MB/s \n",
            "\u001b[?25hCollecting werkzeug>=0.11.15\n",
            "  Downloading Werkzeug-1.0.1-py2.py3-none-any.whl (298 kB)\n",
            "\u001b[K     |████████████████████████████████| 298 kB 71.9 MB/s \n",
            "\u001b[?25hCollecting setuptools>=41.0.0\n",
            "  Downloading setuptools-50.3.2-py3-none-any.whl (785 kB)\n",
            "\u001b[K     |████████████████████████████████| 785 kB 53.4 MB/s \n",
            "\u001b[?25hCollecting importlib-metadata; python_version < \"3.8\"\n",
            "  Downloading importlib_metadata-2.0.0-py2.py3-none-any.whl (31 kB)\n",
            "Collecting requests-oauthlib>=0.7.0\n",
            "  Downloading requests_oauthlib-1.3.0-py2.py3-none-any.whl (23 kB)\n",
            "Collecting pyasn1-modules>=0.2.1\n",
            "  Downloading pyasn1_modules-0.2.8-py2.py3-none-any.whl (155 kB)\n",
            "\u001b[K     |████████████████████████████████| 155 kB 72.3 MB/s \n",
            "\u001b[?25hCollecting rsa<5,>=3.1.4; python_version >= \"3.5\"\n",
            "  Downloading rsa-4.6-py3-none-any.whl (47 kB)\n",
            "\u001b[K     |████████████████████████████████| 47 kB 5.6 MB/s \n",
            "\u001b[?25hCollecting cachetools<5.0,>=2.0.0\n",
            "  Downloading cachetools-4.1.1-py3-none-any.whl (10 kB)\n",
            "Collecting certifi>=2017.4.17\n",
            "  Downloading certifi-2020.11.8-py2.py3-none-any.whl (155 kB)\n",
            "\u001b[K     |████████████████████████████████| 155 kB 70.7 MB/s \n",
            "\u001b[?25hCollecting urllib3<1.27,>=1.21.1\n",
            "  Downloading urllib3-1.26.2-py2.py3-none-any.whl (136 kB)\n",
            "\u001b[K     |████████████████████████████████| 136 kB 31.3 MB/s \n",
            "\u001b[?25hCollecting chardet<4,>=3.0.2\n",
            "  Downloading chardet-3.0.4-py2.py3-none-any.whl (133 kB)\n",
            "\u001b[K     |████████████████████████████████| 133 kB 71.1 MB/s \n",
            "\u001b[?25hRequirement already satisfied: idna<3,>=2.5 in /usr/lib/python3/dist-packages (from requests<3,>=2.21.0->tensorboard<2.3.0,>=2.2.0->tensorflow==2.2.0) (2.6)\n",
            "Collecting zipp>=0.5\n",
            "  Downloading zipp-3.4.0-py3-none-any.whl (5.2 kB)\n",
            "Collecting oauthlib>=3.0.0\n",
            "  Downloading oauthlib-3.1.0-py2.py3-none-any.whl (147 kB)\n",
            "\u001b[K     |████████████████████████████████| 147 kB 76.3 MB/s \n",
            "\u001b[?25hCollecting pyasn1<0.5.0,>=0.4.6\n",
            "  Downloading pyasn1-0.4.8-py2.py3-none-any.whl (77 kB)\n",
            "\u001b[K     |████████████████████████████████| 77 kB 6.9 MB/s \n",
            "\u001b[?25hBuilding wheels for collected packages: wrapt, termcolor\n",
            "  Building wheel for wrapt (setup.py) ... \u001b[?25l\u001b[?25hdone\n",
            "  Created wheel for wrapt: filename=wrapt-1.12.1-py3-none-any.whl size=21397 sha256=77f4505c2b40d4487dc59d7de58af2c0d04814dd52a91d8c6c9dbcb8b2f2b0d0\n",
            "  Stored in directory: /root/.cache/pip/wheels/62/76/4c/aa25851149f3f6d9785f6c869387ad82b3fd37582fa8147ac6\n",
            "  Building wheel for termcolor (setup.py) ... \u001b[?25l\u001b[?25hdone\n",
            "  Created wheel for termcolor: filename=termcolor-1.1.0-py3-none-any.whl size=5679 sha256=032d2c136a7f54ef55d5dbc711717337a3075d7881e0a5148eb544368626909d\n",
            "  Stored in directory: /root/.cache/pip/wheels/3f/e3/ec/8a8336ff196023622fbcb36de0c5a5c218cbb24111d1d4c7f2\n",
            "Successfully built wrapt termcolor\n",
            "Installing collected packages: numpy, opt-einsum, scipy, zipp, importlib-metadata, markdown, six, tensorboard-plugin-wit, absl-py, certifi, urllib3, chardet, requests, oauthlib, requests-oauthlib, pyasn1, pyasn1-modules, setuptools, rsa, cachetools, google-auth, google-auth-oauthlib, protobuf, werkzeug, tensorboard, tensorflow-estimator, astunparse, wrapt, termcolor, gast, google-pasta, keras-preprocessing, h5py, tensorflow\n",
            "  Attempting uninstall: six\n",
            "    Found existing installation: six 1.11.0\n",
            "    Uninstalling six-1.11.0:\n",
            "      Successfully uninstalled six-1.11.0\n",
            "  Attempting uninstall: setuptools\n",
            "    Found existing installation: setuptools 39.0.1\n",
            "    Uninstalling setuptools-39.0.1:\n",
            "      Successfully uninstalled setuptools-39.0.1\n",
            "Successfully installed absl-py-0.11.0 astunparse-1.6.3 cachetools-4.1.1 certifi-2020.11.8 chardet-3.0.4 gast-0.3.3 google-auth-1.23.0 google-auth-oauthlib-0.4.2 google-pasta-0.2.0 h5py-2.10.0 importlib-metadata-2.0.0 keras-preprocessing-1.1.2 markdown-3.3.3 numpy-1.19.4 oauthlib-3.1.0 opt-einsum-3.3.0 protobuf-3.14.0 pyasn1-0.4.8 pyasn1-modules-0.2.8 requests-2.25.0 requests-oauthlib-1.3.0 rsa-4.6 scipy-1.4.1 setuptools-50.3.2 six-1.15.0 tensorboard-2.2.2 tensorboard-plugin-wit-1.7.0 tensorflow-2.2.0 tensorflow-estimator-2.2.0 termcolor-1.1.0 urllib3-1.26.2 werkzeug-1.0.1 wrapt-1.12.1 zipp-3.4.0\n",
            "Collecting opencv-python\n",
            "  Downloading opencv_python-4.4.0.46-cp37-cp37m-manylinux2014_x86_64.whl (49.5 MB)\n",
            "\u001b[K     |████████████████████████████████| 49.5 MB 33 kB/s \n",
            "\u001b[?25hRequirement already satisfied: numpy>=1.14.5 in /usr/local/lib/python3.7/dist-packages (from opencv-python) (1.19.4)\n",
            "Installing collected packages: opencv-python\n",
            "Successfully installed opencv-python-4.4.0.46\n",
            "Collecting imageio\n",
            "  Downloading imageio-2.9.0-py3-none-any.whl (3.3 MB)\n",
            "\u001b[K     |████████████████████████████████| 3.3 MB 21.3 MB/s \n",
            "\u001b[?25hCollecting pillow\n",
            "  Downloading Pillow-8.0.1-cp37-cp37m-manylinux1_x86_64.whl (2.2 MB)\n",
            "\u001b[K     |████████████████████████████████| 2.2 MB 65.2 MB/s \n",
            "\u001b[?25hRequirement already satisfied: numpy in /usr/local/lib/python3.7/dist-packages (from imageio) (1.19.4)\n",
            "Installing collected packages: pillow, imageio\n",
            "Successfully installed imageio-2.9.0 pillow-8.0.1\n",
            "Collecting imageio_ffmpeg\n",
            "  Downloading imageio_ffmpeg-0.4.2-py3-none-manylinux2010_x86_64.whl (26.9 MB)\n",
            "\u001b[K     |████████████████████████████████| 26.9 MB 91 kB/s \n",
            "\u001b[?25hInstalling collected packages: imageio-ffmpeg\n",
            "Successfully installed imageio-ffmpeg-0.4.2\n",
            "Collecting fastcluster\n",
            "  Downloading fastcluster-1.1.26-cp37-cp37m-manylinux1_x86_64.whl (155 kB)\n",
            "\u001b[K     |████████████████████████████████| 155 kB 25.8 MB/s \n",
            "\u001b[?25hRequirement already satisfied: numpy>=1.9 in /usr/local/lib/python3.7/dist-packages (from fastcluster) (1.19.4)\n",
            "Installing collected packages: fastcluster\n",
            "Successfully installed fastcluster-1.1.26\n"
          ],
          "name": "stdout"
        }
      ]
    },
    {
      "cell_type": "code",
      "metadata": {
        "id": "jhniRl2LFBAo"
      },
      "source": [
        ""
      ],
      "execution_count": null,
      "outputs": []
    },
    {
      "cell_type": "code",
      "metadata": {
        "colab": {
          "base_uri": "https://localhost:8080/"
        },
        "id": "JlhE8Z3KfoHU",
        "outputId": "0609f228-49cb-482c-948e-877f49f00874"
      },
      "source": [
        "!python3.7 faceswap.py extract -i ./src/obama.mp4 -o ./data/faces/obama\n",
        "!python3.7 faceswap.py extract -i ./src/trump.mp4 -o ./data/faces/trump"
      ],
      "execution_count": 8,
      "outputs": [
        {
          "output_type": "stream",
          "text": [
            "First time configuration. Please select the required backend\n",
            "1: AMD, 2: CPU, 3: NVIDIA: 3\n",
            "Faceswap config written to: /content/faceswap/config/.faceswap\n",
            "Setting Faceswap backend to NVIDIA\n",
            "11/18/2020 21:17:33 INFO     Log level set to: INFO\n",
            "11/18/2020 21:17:34 INFO     Output Directory: /content/faceswap/data/faces/obama\n",
            "11/18/2020 21:17:34 INFO     Loading Detect from S3Fd plugin...\n",
            "11/18/2020 21:17:35 INFO     Downloading model: 's3fd_keras' from: https://github.com/deepfakes-models/faceswap-models/releases/download/v1.11.2/s3fd_keras_v2.zip\n",
            "Downloading: 100% 11.3M/11.3M [00:00<00:00, 95.9MB/s]\n",
            "11/18/2020 21:17:35 INFO     Extracting: 's3fd_keras'\n",
            "Decompressing: 100% 85.8M/85.8M [00:00<00:00, 130MB/s]\n",
            "11/18/2020 21:17:36 INFO     Loading Align from Fan plugin...\n",
            "11/18/2020 21:17:36 INFO     Downloading model: 'face-alignment-network_2d4_keras' from: https://github.com/deepfakes-models/faceswap-models/releases/download/v1.13.2/face-alignment-network_2d4_keras_v2.zip\n",
            "Downloading: 100% 84.7M/84.7M [00:00<00:00, 111MB/s]\n",
            "11/18/2020 21:17:37 INFO     Extracting: 'face-alignment-network_2d4_keras'\n",
            "Decompressing: 100% 93.0M/93.0M [00:01<00:00, 74.4MB/s]\n",
            "11/18/2020 21:17:38 INFO     Loading Mask from Components plugin...\n",
            "11/18/2020 21:17:38 INFO     Loading Mask from Extended plugin...\n",
            "11/18/2020 21:17:38 INFO     Starting, this may take a while...\n",
            "11/18/2020 21:17:38 INFO     Initializing S3FD (Detect)...\n",
            "11/18/2020 21:17:41 INFO     Initialized S3FD (Detect) with batchsize of 4\n",
            "11/18/2020 21:17:41 INFO     Initializing FAN (Align)...\n",
            "11/18/2020 21:18:07 INFO     Initialized FAN (Align) with batchsize of 12\n",
            "11/18/2020 21:18:07 INFO     Initializing Components (Mask)...\n",
            "11/18/2020 21:18:07 INFO     Initialized Components (Mask) with batchsize of 1\n",
            "11/18/2020 21:18:07 INFO     Initializing Extended (Mask)...\n",
            "11/18/2020 21:18:07 INFO     Initialized Extended (Mask) with batchsize of 1\n",
            "Running pass 1 of 1: Extraction: 100% 8936/8936 [29:10<00:00,  5.10it/s]\n",
            "11/18/2020 21:47:17 INFO     Writing alignments to: '/content/faceswap/src/obama_alignments.fsa'\n",
            "11/18/2020 21:47:23 INFO     -------------------------\n",
            "11/18/2020 21:47:23 INFO     Images found:        8936\n",
            "11/18/2020 21:47:23 INFO     Faces detected:      41714\n",
            "11/18/2020 21:47:23 INFO     -------------------------\n",
            "11/18/2020 21:47:23 INFO     Note:\n",
            "11/18/2020 21:47:23 INFO     Multiple faces were detected in one or more pictures.\n",
            "11/18/2020 21:47:23 INFO     Double check your results.\n",
            "11/18/2020 21:47:23 INFO     -------------------------\n",
            "11/18/2020 21:47:23 INFO     Process Succesfully Completed. Shutting Down...\n",
            "Setting Faceswap backend to NVIDIA\n",
            "11/18/2020 21:47:26 INFO     Log level set to: INFO\n",
            "11/18/2020 21:47:28 INFO     Output Directory: /content/faceswap/data/faces/trump\n",
            "11/18/2020 21:47:29 INFO     Loading Detect from S3Fd plugin...\n",
            "11/18/2020 21:47:29 INFO     Loading Align from Fan plugin...\n",
            "11/18/2020 21:47:29 INFO     Loading Mask from Components plugin...\n",
            "11/18/2020 21:47:29 INFO     Loading Mask from Extended plugin...\n",
            "11/18/2020 21:47:29 INFO     Starting, this may take a while...\n",
            "11/18/2020 21:47:29 INFO     Initializing S3FD (Detect)...\n",
            "11/18/2020 21:47:35 INFO     Initialized S3FD (Detect) with batchsize of 4\n",
            "11/18/2020 21:47:35 INFO     Initializing FAN (Align)...\n",
            "11/18/2020 21:47:58 INFO     Initialized FAN (Align) with batchsize of 12\n",
            "11/18/2020 21:47:58 INFO     Initializing Components (Mask)...\n",
            "11/18/2020 21:47:58 INFO     Initialized Components (Mask) with batchsize of 1\n",
            "11/18/2020 21:47:58 INFO     Initializing Extended (Mask)...\n",
            "11/18/2020 21:47:58 INFO     Initialized Extended (Mask) with batchsize of 1\n",
            "Running pass 1 of 1: Extraction: 100% 20638/20638 [34:17<00:00, 10.03it/s]\n",
            "11/18/2020 22:22:15 INFO     Writing alignments to: '/content/faceswap/src/trump_alignments.fsa'\n",
            "11/18/2020 22:22:19 INFO     -------------------------\n",
            "11/18/2020 22:22:19 INFO     Images found:        20638\n",
            "11/18/2020 22:22:19 INFO     Faces detected:      20668\n",
            "11/18/2020 22:22:19 INFO     -------------------------\n",
            "11/18/2020 22:22:19 INFO     Note:\n",
            "11/18/2020 22:22:19 INFO     Multiple faces were detected in one or more pictures.\n",
            "11/18/2020 22:22:19 INFO     Double check your results.\n",
            "11/18/2020 22:22:19 INFO     -------------------------\n",
            "11/18/2020 22:22:19 INFO     Process Succesfully Completed. Shutting Down...\n"
          ],
          "name": "stdout"
        }
      ]
    },
    {
      "cell_type": "code",
      "metadata": {
        "id": "UjAI2voUFCko",
        "outputId": "8f7f4c48-5ff6-440e-9a0a-a9887950ef52",
        "colab": {
          "base_uri": "https://localhost:8080/",
          "height": 129
        }
      },
      "source": [
        "3# python3.7 faceswap.py train -A ./data/faces/trump -B ./data/faces/obama -m ./data/trump_obama_model/\n",
        "# or -p to show a preview\n",
        "!python3.7 faceswap.py train -A ./data/faces/trump -B ./data/faces/obama -m ./data/trump_obama_model/ -p "
      ],
      "execution_count": 9,
      "outputs": [
        {
          "output_type": "error",
          "ename": "SyntaxError",
          "evalue": "ignored",
          "traceback": [
            "\u001b[0;36m  File \u001b[0;32m\"<ipython-input-9-1ecfb76736be>\"\u001b[0;36m, line \u001b[0;32m3\u001b[0m\n\u001b[0;31m    python3.7 faceswap.py train -A ./data/faces/trump -B ./data/faces/obama -m ./data/trump_obama_model/ -p\u001b[0m\n\u001b[0m            ^\u001b[0m\n\u001b[0;31mSyntaxError\u001b[0m\u001b[0;31m:\u001b[0m invalid syntax\n"
          ]
        }
      ]
    },
    {
      "cell_type": "code",
      "metadata": {
        "colab": {
          "base_uri": "https://localhost:8080/"
        },
        "id": "NHQGB34niD-U",
        "outputId": "cfeb4889-e547-4717-d63b-cc101be59424"
      },
      "source": [
        "!python3.7 --version\n",
        "!pip3 --version"
      ],
      "execution_count": null,
      "outputs": [
        {
          "output_type": "stream",
          "text": [
            "Python 3.7.5\n",
            "pip 19.3.1 from /usr/local/lib/python3.6/dist-packages/pip (python 3.6)\n"
          ],
          "name": "stdout"
        }
      ]
    },
    {
      "cell_type": "code",
      "metadata": {
        "id": "t9wN0CWaj9rY"
      },
      "source": [
        "# Converting a video\n",
        "!python3.7 faceswap.py convert -i ./src/trump/ -o ./data/converted/ -m ./data/trump_obama_model/"
      ],
      "execution_count": null,
      "outputs": []
    },
    {
      "cell_type": "code",
      "metadata": {
        "id": "Dlsn8K-VoEWU"
      },
      "source": [
        ""
      ],
      "execution_count": null,
      "outputs": []
    }
  ]
}